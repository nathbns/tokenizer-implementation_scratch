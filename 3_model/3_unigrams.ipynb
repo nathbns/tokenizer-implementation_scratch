{
 "cells": [
  {
   "cell_type": "markdown",
   "id": "b8f6d14e",
   "metadata": {},
   "source": [
    "## Unigram\n",
    "#### To be done :) \n",
    "##### Will implements this method, if you reach this far thank! "
   ]
  }
 ],
 "metadata": {
  "language_info": {
   "name": "python"
  }
 },
 "nbformat": 4,
 "nbformat_minor": 5
}
