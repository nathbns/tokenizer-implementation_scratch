{
 "cells": [
  {
   "cell_type": "markdown",
   "id": "a0fd786d",
   "metadata": {},
   "source": [
    "## Word-Piece: Use in BERT\n",
    "#### made by google but never publish. So it's an approximate method"
   ]
  },
  {
   "cell_type": "code",
   "execution_count": 2,
   "id": "044ece12",
   "metadata": {},
   "outputs": [],
   "source": [
    "# made by google but never publish. So it's an approximate method\n",
    "# tokenizer word_piece -> BERT\n",
    "\n",
    "corpus = [\"This is an introduction course.\", \"This is about tokenization.\", \"This section shows multiple tokenizer algorithms.\", \"Hope you like the content so far.\"]"
   ]
  },
  {
   "cell_type": "code",
   "execution_count": null,
   "id": "e6fd6de2",
   "metadata": {},
   "outputs": [],
   "source": [
    "from huggingface_hub import notebook_login\n",
    "\n",
    "notebook_login()"
   ]
  },
  {
   "cell_type": "code",
   "execution_count": 5,
   "id": "982a387b",
   "metadata": {},
   "outputs": [],
   "source": [
    "# pre-tokenize \n",
    "from transformers import AutoTokenizer\n",
    "\n",
    "tokenizer = AutoTokenizer.from_pretrained(\"bert-base-cased\")"
   ]
  },
  {
   "cell_type": "code",
   "execution_count": 6,
   "id": "ee8286e6",
   "metadata": {},
   "outputs": [],
   "source": [
    "# calculate the freqs foreach word in the corpus\n",
    "\n",
    "from collections import defaultdict \n",
    "\n",
    "word_freqs = defaultdict(int)\n",
    "\n",
    "for text in corpus:\n",
    "    word_freqs_with_offset = tokenizer.backend_tokenizer.pre_tokenizer.pre_tokenize_str(text)\n",
    "    new_words = [word for word, _ in word_freqs_with_offset]\n",
    "    for word in new_words:\n",
    "        word_freqs[word] += 1\n",
    "\n",
    "# for w in word_freqs.keys():\n",
    "#     print(f\"word_freqs.keys() = {w}\")\n",
    "#     print(f\"w[0] = {w[0]}\")"
   ]
  },
  {
   "cell_type": "code",
   "execution_count": 7,
   "id": "bdb4b4b8",
   "metadata": {},
   "outputs": [
    {
     "name": "stdout",
     "output_type": "stream",
     "text": [
      "[['##a', '##b', '##c', '##d', '##e', '##g', '##h', '##i', '##k', '##l', '##m', '##n', '##o', '##p', '##r', '##s', '##t', '##u', '##w', '##z', '.', 'H', 'T', 'a', 'c', 'f', 'i', 'l', 'm', 's', 't', 'y']]\n"
     ]
    }
   ],
   "source": [
    "# create the alphabet of the corpus\n",
    "\n",
    "alphabet = []\n",
    "\n",
    "for word in word_freqs.keys():\n",
    "    if word[0] not in alphabet:\n",
    "        alphabet.append(word[0]) # fst letter foreach word\n",
    "    for letter in word[1:]:\n",
    "        if f\"##{letter}\" not in alphabet:\n",
    "            alphabet.append(f\"##{letter}\")\n",
    "\n",
    "alphabet.sort()\n",
    "print([alphabet])"
   ]
  },
  {
   "cell_type": "code",
   "execution_count": 8,
   "id": "74aeda83",
   "metadata": {},
   "outputs": [],
   "source": [
    "# create the vocab\n",
    "\n",
    "vocab = [\"[PAD]\", \"[UNK]\", \"[CLS]\", \"[SEP]\", \"[MASK]\"] + alphabet.copy()\n",
    "# vocab"
   ]
  },
  {
   "cell_type": "code",
   "execution_count": 9,
   "id": "10aac44d",
   "metadata": {},
   "outputs": [],
   "source": [
    "# dividing each word into list of char\n",
    "\n",
    "splits = {\n",
    "    word: [c if i == 0 else f\"##{c}\" for i, c in enumerate(word)]\n",
    "    for word in word_freqs.keys()\n",
    "}"
   ]
  },
  {
   "cell_type": "code",
   "execution_count": 10,
   "id": "d485a36d",
   "metadata": {},
   "outputs": [
    {
     "name": "stdout",
     "output_type": "stream",
     "text": [
      "('T', '##h'): 0.16666666666666666\n",
      "('##h', '##i'): 0.045454545454545456\n",
      "('##i', '##s'): 0.03409090909090909\n",
      "('i', '##s'): 0.08333333333333333\n",
      "('a', '##n'): 0.037037037037037035\n",
      "('i', '##n'): 0.037037037037037035\n"
     ]
    }
   ],
   "source": [
    "# calculate score of each pair\n",
    "\n",
    "def compute_pair_scores(splits):\n",
    "    letter_freqs = defaultdict(int)\n",
    "    pair_freqs = defaultdict(int)\n",
    "    for word, freq in word_freqs.items():\n",
    "        split = splits[word]\n",
    "        if len(split) == 1:\n",
    "            letter_freqs[split[0]] += freq\n",
    "            continue\n",
    "        for i in range(len(split) - 1):\n",
    "            pair = (split[i], split[i + 1])\n",
    "            letter_freqs[split[i]] += freq\n",
    "            pair_freqs[pair] += freq\n",
    "        letter_freqs[split[-1]] += freq\n",
    "\n",
    "    scores = {\n",
    "        pair: freq / (letter_freqs[pair[0]] * letter_freqs[pair[1]])\n",
    "        for pair, freq in pair_freqs.items()\n",
    "    }\n",
    "\n",
    "    return scores\n",
    "\n",
    "pair_scores = compute_pair_scores(splits)\n",
    "for i, key in enumerate(pair_scores.keys()):\n",
    "    print(f\"{key}: {pair_scores[key]}\")\n",
    "    if i >=5:\n",
    "        break\n"
   ]
  },
  {
   "cell_type": "code",
   "execution_count": 11,
   "id": "a18c7a43",
   "metadata": {},
   "outputs": [
    {
     "name": "stdout",
     "output_type": "stream",
     "text": [
      "(best_pair, max_score) = (('f', '##a'), 0.5)\n"
     ]
    }
   ],
   "source": [
    "# now we have the search for the best pair\n",
    "\n",
    "best_pair = \"\"\n",
    "max_score = None\n",
    "\n",
    "for pair, score in pair_scores.items():\n",
    "    if max_score is None or max_score < score:\n",
    "        max_score = score\n",
    "        best_pair = pair\n",
    "\n",
    "print(f\"(best_pair, max_score) = {best_pair, max_score}\")\n",
    "\n",
    "# so after the fusion we will get => ('a', '##b') -> 'ab' and append it to the vocab"
   ]
  },
  {
   "cell_type": "code",
   "execution_count": 12,
   "id": "67b2dee5",
   "metadata": {},
   "outputs": [],
   "source": [
    "# function for merge the best_pair\n",
    "\n",
    "def merge_pair(a, b, splits):\n",
    "    for word in word_freqs:\n",
    "        split = splits[word]\n",
    "        if len(split) == 1:\n",
    "            continue\n",
    "        i = 0\n",
    "        while i < len(split) - 1:\n",
    "            if split[i] == a and split[i + 1] == b:\n",
    "                merge = a + b[2:] if b.startswith(\"##\") else a + b\n",
    "                split = split[:i] + [merge] + split[i + 2 :]\n",
    "            else:\n",
    "                i += 1\n",
    "        splits[word] = split\n",
    "    return splits\n",
    "\n",
    "# test\n",
    "\n",
    "# splits = merge_pair(\"a\", \"##b\", splits)\n",
    "# splits[\"about\"]"
   ]
  },
  {
   "cell_type": "code",
   "execution_count": 13,
   "id": "d2de583c",
   "metadata": {},
   "outputs": [],
   "source": [
    "# NOW WE CAN REGROUP ALL THIS.\n",
    "\n",
    "target_vocab_size = 70\n",
    "\n",
    "while len(vocab) < target_vocab_size:\n",
    "    # calculate the score based on the 'word piece tokenizer' logic\n",
    "    scores = compute_pair_scores(splits)\n",
    "\n",
    "    # finding the best_pair to merge\n",
    "    best_pair, max_score = \"\", None\n",
    "    for pair, score in scores.items():\n",
    "        if max_score is None or max_score < score:\n",
    "            max_score = score\n",
    "            best_pair = pair\n",
    "    \n",
    "    # merging the 'best_pair'\n",
    "    splits = merge_pair(*best_pair, splits)\n",
    "\n",
    "    # new token to append to vocab\n",
    "    new_token = (\n",
    "        best_pair[0] + best_pair[1][2:]\n",
    "        if best_pair[1].startswith(\"##\")\n",
    "        else best_pair[0] + best_pair[1]\n",
    "    )\n",
    "    vocab.append(new_token)"
   ]
  },
  {
   "cell_type": "code",
   "execution_count": 14,
   "id": "aef1d9da",
   "metadata": {},
   "outputs": [
    {
     "name": "stdout",
     "output_type": "stream",
     "text": [
      "vocab =>\n",
      "['[PAD]', '[UNK]', '[CLS]', '[SEP]', '[MASK]', '##a', '##b', '##c', '##d', '##e', '##g', '##h', '##i', '##k', '##l', '##m', '##n', '##o', '##p', '##r', '##s', '##t', '##u', '##w', '##z', '.', 'H', 'T', 'a', 'c', 'f', 'i', 'l', 'm', 's', 't', 'y', 'fa', '##za', 'ab', '##lg', 'alg', '##pl', '##du', '##duc', 'mu', 'mul', 'far', 'Th', '##hm', 'sh', 'th', '##ws', '##hms', 'is', 'an', 'in', 'int', 'intr', '##duct', '##zat', '##ct', 'mult', '##thms', '##ur', '##urs', '##ut', '##nt', '##urse', '##ke']\n"
     ]
    }
   ],
   "source": [
    "print(f\"vocab =>\\n{vocab}\")"
   ]
  },
  {
   "cell_type": "code",
   "execution_count": 15,
   "id": "e94d9016",
   "metadata": {},
   "outputs": [],
   "source": [
    "# function to pre_tokenize / divide / tokenize with the 'word_piece tokenizer' logic (for word)\n",
    "\n",
    "def encode_word(word):\n",
    "    tokens = []\n",
    "    while len(word) > 0:\n",
    "        i = len(word)\n",
    "        while i > 0 and word[:i] not in vocab:\n",
    "            i -= 1\n",
    "        if i == 0:\n",
    "            return [\"[UNK]\"]\n",
    "        tokens.append(word[:i])\n",
    "        word = word[i:]\n",
    "        if len(word) > 0:\n",
    "            word = f\"##{word}\"\n",
    "    return tokens\n",
    "\n",
    "# function to pre-tokenize / divide / tokenize with the 'word_piece tokenizer' logic (for text)\n",
    "\n",
    "def tokenize(text):\n",
    "    pre_tokenize_result = tokenizer._tokenizer.pre_tokenizer.pre_tokenize_str(text)\n",
    "    pre_tokenized_text = [word for word, _ in pre_tokenize_result]\n",
    "    encoded_words = [encode_word(word) for word in pre_tokenized_text]\n",
    "    return sum(encoded_words, [])"
   ]
  },
  {
   "cell_type": "code",
   "execution_count": 16,
   "id": "7e97b17f",
   "metadata": {},
   "outputs": [
    {
     "data": {
      "text/plain": [
       "['Th',\n",
       " '##i',\n",
       " '##s',\n",
       " 'is',\n",
       " 'th',\n",
       " '##e',\n",
       " '[UNK]',\n",
       " '[UNK]',\n",
       " 'th',\n",
       " '##e',\n",
       " 'intr',\n",
       " '##o',\n",
       " 't',\n",
       " '##o',\n",
       " '[UNK]']"
      ]
     },
     "execution_count": 16,
     "metadata": {},
     "output_type": "execute_result"
    }
   ],
   "source": [
    "# test to applied to 'word_piece' method on a new given text\n",
    "\n",
    "tokenize(\"This is the end of the intro to wordPiece\")"
   ]
  }
 ],
 "metadata": {
  "kernelspec": {
   "display_name": ".venv",
   "language": "python",
   "name": "python3"
  },
  "language_info": {
   "codemirror_mode": {
    "name": "ipython",
    "version": 3
   },
   "file_extension": ".py",
   "mimetype": "text/x-python",
   "name": "python",
   "nbconvert_exporter": "python",
   "pygments_lexer": "ipython3",
   "version": "3.13.5"
  }
 },
 "nbformat": 4,
 "nbformat_minor": 5
}
