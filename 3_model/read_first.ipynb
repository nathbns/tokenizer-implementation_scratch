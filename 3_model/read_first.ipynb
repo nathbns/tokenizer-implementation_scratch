{
 "cells": [
  {
   "cell_type": "markdown",
   "id": "d73426cc",
   "metadata": {},
   "source": [
    "# Recap:\n",
    "### For now, our tokenizer is built this way:\n",
    "- #### step 1 => Normalization \n",
    "- #### step 2 => Pre-Tokenize \n",
    "- #### step 3 (We are here!) => different Model!\n",
    "  - BPE: Byte Pair Encoding \n",
    "  - Word\n",
    "  - Unigram"
   ]
  }
 ],
 "metadata": {
  "kernelspec": {
   "display_name": ".venv",
   "language": "python",
   "name": "python3"
  },
  "language_info": {
   "name": "python",
   "version": "3.13.5"
  }
 },
 "nbformat": 4,
 "nbformat_minor": 5
}
