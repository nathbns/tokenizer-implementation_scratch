{
 "cells": [
  {
   "cell_type": "markdown",
   "id": "0ffda62d",
   "metadata": {},
   "source": [
    "## Before everything, you should be connected in HF:"
   ]
  },
  {
   "cell_type": "code",
   "execution_count": 11,
   "id": "7d36de38",
   "metadata": {},
   "outputs": [
    {
     "data": {
      "application/vnd.jupyter.widget-view+json": {
       "model_id": "029a99caf3374644b13e9de44118e80b",
       "version_major": 2,
       "version_minor": 0
      },
      "text/plain": [
       "VBox(children=(HTML(value='<center> <img\\nsrc=https://huggingface.co/front/assets/huggingface_logo-noborder.sv…"
      ]
     },
     "metadata": {},
     "output_type": "display_data"
    }
   ],
   "source": [
    "from huggingface_hub import notebook_login\n",
    "\n",
    "notebook_login()"
   ]
  },
  {
   "cell_type": "markdown",
   "id": "f04b92c3",
   "metadata": {},
   "source": [
    "# Normalization : \n",
    "- cleanup the text (rm accents | spaces | unicode normalization | and others...) \n",
    "\n",
    "### If we take this sentence : \n",
    "- sentence = \"Hello my name is Nathan, i'm a french computer science student.\"\n",
    "\n",
    "\n",
    "#### Additional information:\n",
    "- In this tutorial we will use huggingFace lib. I suggest you to go check the documentation before read this."
   ]
  },
  {
   "cell_type": "code",
   "execution_count": 14,
   "id": "dd960a40",
   "metadata": {},
   "outputs": [
    {
     "data": {
      "text/plain": [
       "\"Hellô my nAme is Nathan, i'm á freñch computer scIence student.\""
      ]
     },
     "execution_count": 14,
     "metadata": {},
     "output_type": "execute_result"
    }
   ],
   "source": [
    "your_name = \"Nathan\" # replace with your own name :)\n",
    "sentence = f\"Hellô my nAme is {your_name}, i'm á freñch computer scIence student.\"\n",
    "sentence"
   ]
  },
  {
   "cell_type": "code",
   "execution_count": 15,
   "id": "d2d73249",
   "metadata": {},
   "outputs": [
    {
     "name": "stdout",
     "output_type": "stream",
     "text": [
      "hello my name is nathan, i'm a french computer science student.\n",
      "\n"
     ]
    }
   ],
   "source": [
    "from transformers import AutoTokenizer\n",
    "\n",
    "# we will use this model, \n",
    "# because we can comparate easily with his alt model 'bert-base-cased'\n",
    "model_checkpoint = 'bert-base-uncased' \n",
    "tokenizer = AutoTokenizer.from_pretrained(model_checkpoint)\n",
    "\n",
    "# the next line of code, show applied the normalization on our 'sentence'\n",
    "print(f\"{tokenizer.backend_tokenizer.normalizer.normalize_str(sentence)}\\n\")"
   ]
  },
  {
   "cell_type": "markdown",
   "id": "d43f947b",
   "metadata": {},
   "source": [
    "We see here, that our 'sentence' now look 'normalize'.\n",
    "Now, you what mean normalize a text.\n",
    "\n",
    "To compare, now we will use another model name 'bert-base-cased'"
   ]
  },
  {
   "cell_type": "code",
   "execution_count": null,
   "id": "5c984535",
   "metadata": {},
   "outputs": [
    {
     "name": "stdout",
     "output_type": "stream",
     "text": [
      "Hellô my nAme is Nathan, i'm á freñch computer scIence student.\n",
      "\n"
     ]
    }
   ],
   "source": [
    "model_checkpoint = 'bert-base-cased'\n",
    "tokenizer = AutoTokenizer.from_pretrained(model_checkpoint)\n",
    "\n",
    "print(f\"{tokenizer.backend_tokenizer.normalizer.normalize_str(sentence)}\\n\")"
   ]
  },
  {
   "cell_type": "markdown",
   "id": "269f2cf4",
   "metadata": {},
   "source": [
    "We see that this model does not applied lowercasing or removing accents.\n",
    "\n",
    "\n",
    "### Each model normalize with his own rule. If you use one, it's you responsability to check the documentation if available."
   ]
  }
 ],
 "metadata": {
  "kernelspec": {
   "display_name": ".venv",
   "language": "python",
   "name": "python3"
  },
  "language_info": {
   "codemirror_mode": {
    "name": "ipython",
    "version": 3
   },
   "file_extension": ".py",
   "mimetype": "text/x-python",
   "name": "python",
   "nbconvert_exporter": "python",
   "pygments_lexer": "ipython3",
   "version": "3.13.5"
  }
 },
 "nbformat": 4,
 "nbformat_minor": 5
}
